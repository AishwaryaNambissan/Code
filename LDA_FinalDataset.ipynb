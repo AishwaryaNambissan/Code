{
  "nbformat": 4,
  "nbformat_minor": 0,
  "metadata": {
    "colab": {
      "provenance": [],
      "authorship_tag": "ABX9TyObGXxjiDaMBEtGBJzs3ZjN",
      "include_colab_link": true
    },
    "kernelspec": {
      "name": "python3",
      "display_name": "Python 3"
    },
    "language_info": {
      "name": "python"
    }
  },
  "cells": [
    {
      "cell_type": "markdown",
      "metadata": {
        "id": "view-in-github",
        "colab_type": "text"
      },
      "source": [
        "<a href=\"https://colab.research.google.com/github/AishwaryaNambissan/Code/blob/main/LDA_FinalDataset.ipynb\" target=\"_parent\"><img src=\"https://colab.research.google.com/assets/colab-badge.svg\" alt=\"Open In Colab\"/></a>"
      ]
    },
    {
      "cell_type": "markdown",
      "source": [
        "Installations and Packages"
      ],
      "metadata": {
        "id": "WpxrrBiqPiTh"
      }
    },
    {
      "cell_type": "code",
      "source": [
        "import pandas as pd\n",
        "from gensim.utils import simple_preprocess\n",
        "from gensim import corpora\n",
        "from gensim import models\n",
        "\n",
        "%pip install ijson\n",
        "import ijson\n",
        "\n",
        "import pandas as pd\n",
        "\n",
        "from gensim.parsing.preprocessing import preprocess_string\n",
        "from gensim.parsing.preprocessing import strip_multiple_whitespaces\n",
        "from gensim.parsing.preprocessing import strip_short\n",
        "from gensim.parsing.preprocessing import strip_punctuation\n",
        "from gensim.parsing.preprocessing import strip_tags\n",
        "from gensim.parsing.preprocessing import strip_numeric\n",
        "from gensim.parsing.preprocessing import strip_non_alphanum\n",
        "from gensim.parsing.preprocessing import strip_short\n",
        "from gensim.parsing.preprocessing import remove_stopwords\n",
        "from gensim.parsing.preprocessing import STOPWORDS\n",
        "from nltk.tokenize import word_tokenize\n",
        "\n",
        "import gensim\n",
        "from gensim import corpora\n",
        "from gensim.models.coherencemodel import CoherenceModel\n",
        "import matplotlib.pyplot as plt\n",
        "\n",
        "from collections import Counter\n",
        "import csv\n",
        "from wordcloud import WordCloud"
      ],
      "metadata": {
        "colab": {
          "base_uri": "https://localhost:8080/"
        },
        "id": "9mOmo7srPlhA",
        "outputId": "059066bf-8f63-46b1-91b5-8a71fc06efe7"
      },
      "execution_count": 1,
      "outputs": [
        {
          "output_type": "stream",
          "name": "stdout",
          "text": [
            "Collecting ijson\n",
            "  Downloading ijson-3.2.3-cp310-cp310-manylinux_2_17_x86_64.manylinux2014_x86_64.whl (111 kB)\n",
            "\u001b[2K     \u001b[90m━━━━━━━━━━━━━━━━━━━━━━━━━━━━━━━━━━━━━━━━\u001b[0m \u001b[32m111.8/111.8 kB\u001b[0m \u001b[31m2.1 MB/s\u001b[0m eta \u001b[36m0:00:00\u001b[0m\n",
            "\u001b[?25hInstalling collected packages: ijson\n",
            "Successfully installed ijson-3.2.3\n"
          ]
        }
      ]
    },
    {
      "cell_type": "code",
      "source": [
        "from google.colab import drive\n",
        "drive.mount('/content/gdrive')"
      ],
      "metadata": {
        "colab": {
          "base_uri": "https://localhost:8080/"
        },
        "id": "PaGYeKYnWCaZ",
        "outputId": "377c4a23-ecb0-441a-dc28-4bd5b3571659"
      },
      "execution_count": 2,
      "outputs": [
        {
          "output_type": "stream",
          "name": "stdout",
          "text": [
            "Mounted at /content/gdrive\n"
          ]
        }
      ]
    },
    {
      "cell_type": "markdown",
      "source": [
        "Printing out information about the dataset"
      ],
      "metadata": {
        "id": "SRpPzHjMPxVJ"
      }
    },
    {
      "cell_type": "code",
      "source": [
        "file =  '/content/gdrive/MyDrive/Colab Notebooks/extracted_files/json/artificial_intelligence.json'\n",
        "affs = set()\n",
        "author_names = set()\n",
        "content = []\n",
        "titles=[]\n",
        "counter = 0\n",
        "try:\n",
        "    with open(file, 'r') as f:\n",
        "        # Parse the JSON objects one by one\n",
        "        parser = ijson.items(f, 'item')\n",
        "\n",
        "        # Iterate over the JSON objects\n",
        "        for item in parser:\n",
        "          counter = counter + 1\n",
        "          try:\n",
        "            # Process each JSON object as needed\n",
        "            if 'abstract' in item.keys() and 'title' in item.keys():\n",
        "              title = ' '.join(item['title'])\n",
        "              content.append(item['abstract']+ \" \" + title)\n",
        "              titles.append(title)\n",
        "            if 'author' in item.keys():\n",
        "              authors = item['author']\n",
        "              for val in authors:\n",
        "                # Both given and family names have to exist to be counted\n",
        "                if 'given' in val.keys() and 'family' in val.keys():\n",
        "                # Extract the name of the author from the given and family names\n",
        "                  name = val['given'] + \" \" + val['family']\n",
        "                # Add the author's name to the set of authors\n",
        "                  author_names.add(name)\n",
        "\n",
        "                if 'affiliation' in val.keys():\n",
        "                  # Extract the name of the author\n",
        "                  affiliations = val['affiliation']\n",
        "                  if len(affiliations) > 0:\n",
        "                    for aff in affiliations:\n",
        "                      if 'name' in aff.keys():\n",
        "                        name = aff['name']\n",
        "                        # Add the author's affiliation to the set of affiliations\n",
        "                        affs.add(name)\n",
        "\n",
        "          except Exception as e:\n",
        "              print(\"Error processing JSON item:\", str(e))\n",
        "except FileNotFoundError:\n",
        "  print(\"File not found:\", file)\n",
        "except Exception as e:\n",
        "  print(\"Error reading file:\", str(e))\n",
        "\n",
        "print(\"Number of records\", counter)\n",
        "print(\"Number of affiliations:\", len(affs))\n",
        "print(\"Number of co-authors:\", len(author_names))\n"
      ],
      "metadata": {
        "colab": {
          "base_uri": "https://localhost:8080/"
        },
        "id": "oqQo-PXnPtYz",
        "outputId": "0f8df971-ebcf-4725-e5e7-4f91d9223c1f"
      },
      "execution_count": 4,
      "outputs": [
        {
          "output_type": "stream",
          "name": "stdout",
          "text": [
            "Number of records 501629\n",
            "Number of affiliations: 163722\n",
            "Number of co-authors: 736857\n"
          ]
        }
      ]
    },
    {
      "cell_type": "markdown",
      "source": [
        "Creating the dataframe with required feature\n"
      ],
      "metadata": {
        "id": "AgEIn0b6P9uV"
      }
    },
    {
      "cell_type": "code",
      "source": [
        "df = pd.DataFrame(columns=['content', 'title'])\n",
        "# Convert JSON to DataFrame Using read_json()\n",
        "df['content'] = pd.DataFrame(content)\n",
        "df['title'] = pd.DataFrame(titles)\n",
        "\n",
        "\n",
        "# Checking for missing values\n",
        "df.isnull().sum()\n",
        "\n",
        "# Dropping those columns with null values for abstract or title\n",
        "df = df.dropna()\n",
        "df.shape\n",
        "df.head()"
      ],
      "metadata": {
        "id": "2FWPqVekP0ZQ",
        "colab": {
          "base_uri": "https://localhost:8080/",
          "height": 206
        },
        "outputId": "195cdfd4-88d9-4456-df08-895110ec0d5f"
      },
      "execution_count": 6,
      "outputs": [
        {
          "output_type": "execute_result",
          "data": {
            "text/plain": [
              "                                             content  \\\n",
              "0  <jats:p> Artificial immune system is inspired ...   \n",
              "1  <jats:p> Accurate time series forecasting are ...   \n",
              "2  <jats:p> This paper addresses the problem of e...   \n",
              "3  <jats:p> Recent trends in educational technolo...   \n",
              "4  <jats:p> As the dairy products have a short co...   \n",
              "\n",
              "                                               title  \n",
              "0           IMMUNOLOGY AND ARTIFICIAL IMMUNE SYSTEMS  \n",
              "1  TIME SERIES FORECASTING. A COMPARATIVE STUDY B...  \n",
              "2  Artificial Immune System-Based Learning Style ...  \n",
              "3  Artificial Intelligence in Psychomotor Learnin...  \n",
              "4  Application of Improved Artificial Intelligenc...  "
            ],
            "text/html": [
              "\n",
              "  <div id=\"df-7ab22da9-b088-4947-b3a8-69bf87ead8ef\" class=\"colab-df-container\">\n",
              "    <div>\n",
              "<style scoped>\n",
              "    .dataframe tbody tr th:only-of-type {\n",
              "        vertical-align: middle;\n",
              "    }\n",
              "\n",
              "    .dataframe tbody tr th {\n",
              "        vertical-align: top;\n",
              "    }\n",
              "\n",
              "    .dataframe thead th {\n",
              "        text-align: right;\n",
              "    }\n",
              "</style>\n",
              "<table border=\"1\" class=\"dataframe\">\n",
              "  <thead>\n",
              "    <tr style=\"text-align: right;\">\n",
              "      <th></th>\n",
              "      <th>content</th>\n",
              "      <th>title</th>\n",
              "    </tr>\n",
              "  </thead>\n",
              "  <tbody>\n",
              "    <tr>\n",
              "      <th>0</th>\n",
              "      <td>&lt;jats:p&gt; Artificial immune system is inspired ...</td>\n",
              "      <td>IMMUNOLOGY AND ARTIFICIAL IMMUNE SYSTEMS</td>\n",
              "    </tr>\n",
              "    <tr>\n",
              "      <th>1</th>\n",
              "      <td>&lt;jats:p&gt; Accurate time series forecasting are ...</td>\n",
              "      <td>TIME SERIES FORECASTING. A COMPARATIVE STUDY B...</td>\n",
              "    </tr>\n",
              "    <tr>\n",
              "      <th>2</th>\n",
              "      <td>&lt;jats:p&gt; This paper addresses the problem of e...</td>\n",
              "      <td>Artificial Immune System-Based Learning Style ...</td>\n",
              "    </tr>\n",
              "    <tr>\n",
              "      <th>3</th>\n",
              "      <td>&lt;jats:p&gt; Recent trends in educational technolo...</td>\n",
              "      <td>Artificial Intelligence in Psychomotor Learnin...</td>\n",
              "    </tr>\n",
              "    <tr>\n",
              "      <th>4</th>\n",
              "      <td>&lt;jats:p&gt; As the dairy products have a short co...</td>\n",
              "      <td>Application of Improved Artificial Intelligenc...</td>\n",
              "    </tr>\n",
              "  </tbody>\n",
              "</table>\n",
              "</div>\n",
              "    <div class=\"colab-df-buttons\">\n",
              "\n",
              "  <div class=\"colab-df-container\">\n",
              "    <button class=\"colab-df-convert\" onclick=\"convertToInteractive('df-7ab22da9-b088-4947-b3a8-69bf87ead8ef')\"\n",
              "            title=\"Convert this dataframe to an interactive table.\"\n",
              "            style=\"display:none;\">\n",
              "\n",
              "  <svg xmlns=\"http://www.w3.org/2000/svg\" height=\"24px\" viewBox=\"0 -960 960 960\">\n",
              "    <path d=\"M120-120v-720h720v720H120Zm60-500h600v-160H180v160Zm220 220h160v-160H400v160Zm0 220h160v-160H400v160ZM180-400h160v-160H180v160Zm440 0h160v-160H620v160ZM180-180h160v-160H180v160Zm440 0h160v-160H620v160Z\"/>\n",
              "  </svg>\n",
              "    </button>\n",
              "\n",
              "  <style>\n",
              "    .colab-df-container {\n",
              "      display:flex;\n",
              "      gap: 12px;\n",
              "    }\n",
              "\n",
              "    .colab-df-convert {\n",
              "      background-color: #E8F0FE;\n",
              "      border: none;\n",
              "      border-radius: 50%;\n",
              "      cursor: pointer;\n",
              "      display: none;\n",
              "      fill: #1967D2;\n",
              "      height: 32px;\n",
              "      padding: 0 0 0 0;\n",
              "      width: 32px;\n",
              "    }\n",
              "\n",
              "    .colab-df-convert:hover {\n",
              "      background-color: #E2EBFA;\n",
              "      box-shadow: 0px 1px 2px rgba(60, 64, 67, 0.3), 0px 1px 3px 1px rgba(60, 64, 67, 0.15);\n",
              "      fill: #174EA6;\n",
              "    }\n",
              "\n",
              "    .colab-df-buttons div {\n",
              "      margin-bottom: 4px;\n",
              "    }\n",
              "\n",
              "    [theme=dark] .colab-df-convert {\n",
              "      background-color: #3B4455;\n",
              "      fill: #D2E3FC;\n",
              "    }\n",
              "\n",
              "    [theme=dark] .colab-df-convert:hover {\n",
              "      background-color: #434B5C;\n",
              "      box-shadow: 0px 1px 3px 1px rgba(0, 0, 0, 0.15);\n",
              "      filter: drop-shadow(0px 1px 2px rgba(0, 0, 0, 0.3));\n",
              "      fill: #FFFFFF;\n",
              "    }\n",
              "  </style>\n",
              "\n",
              "    <script>\n",
              "      const buttonEl =\n",
              "        document.querySelector('#df-7ab22da9-b088-4947-b3a8-69bf87ead8ef button.colab-df-convert');\n",
              "      buttonEl.style.display =\n",
              "        google.colab.kernel.accessAllowed ? 'block' : 'none';\n",
              "\n",
              "      async function convertToInteractive(key) {\n",
              "        const element = document.querySelector('#df-7ab22da9-b088-4947-b3a8-69bf87ead8ef');\n",
              "        const dataTable =\n",
              "          await google.colab.kernel.invokeFunction('convertToInteractive',\n",
              "                                                    [key], {});\n",
              "        if (!dataTable) return;\n",
              "\n",
              "        const docLinkHtml = 'Like what you see? Visit the ' +\n",
              "          '<a target=\"_blank\" href=https://colab.research.google.com/notebooks/data_table.ipynb>data table notebook</a>'\n",
              "          + ' to learn more about interactive tables.';\n",
              "        element.innerHTML = '';\n",
              "        dataTable['output_type'] = 'display_data';\n",
              "        await google.colab.output.renderOutput(dataTable, element);\n",
              "        const docLink = document.createElement('div');\n",
              "        docLink.innerHTML = docLinkHtml;\n",
              "        element.appendChild(docLink);\n",
              "      }\n",
              "    </script>\n",
              "  </div>\n",
              "\n",
              "\n",
              "<div id=\"df-53a90e89-d4d0-46c7-851c-c77c58c8cd4c\">\n",
              "  <button class=\"colab-df-quickchart\" onclick=\"quickchart('df-53a90e89-d4d0-46c7-851c-c77c58c8cd4c')\"\n",
              "            title=\"Suggest charts.\"\n",
              "            style=\"display:none;\">\n",
              "\n",
              "<svg xmlns=\"http://www.w3.org/2000/svg\" height=\"24px\"viewBox=\"0 0 24 24\"\n",
              "     width=\"24px\">\n",
              "    <g>\n",
              "        <path d=\"M19 3H5c-1.1 0-2 .9-2 2v14c0 1.1.9 2 2 2h14c1.1 0 2-.9 2-2V5c0-1.1-.9-2-2-2zM9 17H7v-7h2v7zm4 0h-2V7h2v10zm4 0h-2v-4h2v4z\"/>\n",
              "    </g>\n",
              "</svg>\n",
              "  </button>\n",
              "\n",
              "<style>\n",
              "  .colab-df-quickchart {\n",
              "      --bg-color: #E8F0FE;\n",
              "      --fill-color: #1967D2;\n",
              "      --hover-bg-color: #E2EBFA;\n",
              "      --hover-fill-color: #174EA6;\n",
              "      --disabled-fill-color: #AAA;\n",
              "      --disabled-bg-color: #DDD;\n",
              "  }\n",
              "\n",
              "  [theme=dark] .colab-df-quickchart {\n",
              "      --bg-color: #3B4455;\n",
              "      --fill-color: #D2E3FC;\n",
              "      --hover-bg-color: #434B5C;\n",
              "      --hover-fill-color: #FFFFFF;\n",
              "      --disabled-bg-color: #3B4455;\n",
              "      --disabled-fill-color: #666;\n",
              "  }\n",
              "\n",
              "  .colab-df-quickchart {\n",
              "    background-color: var(--bg-color);\n",
              "    border: none;\n",
              "    border-radius: 50%;\n",
              "    cursor: pointer;\n",
              "    display: none;\n",
              "    fill: var(--fill-color);\n",
              "    height: 32px;\n",
              "    padding: 0;\n",
              "    width: 32px;\n",
              "  }\n",
              "\n",
              "  .colab-df-quickchart:hover {\n",
              "    background-color: var(--hover-bg-color);\n",
              "    box-shadow: 0 1px 2px rgba(60, 64, 67, 0.3), 0 1px 3px 1px rgba(60, 64, 67, 0.15);\n",
              "    fill: var(--button-hover-fill-color);\n",
              "  }\n",
              "\n",
              "  .colab-df-quickchart-complete:disabled,\n",
              "  .colab-df-quickchart-complete:disabled:hover {\n",
              "    background-color: var(--disabled-bg-color);\n",
              "    fill: var(--disabled-fill-color);\n",
              "    box-shadow: none;\n",
              "  }\n",
              "\n",
              "  .colab-df-spinner {\n",
              "    border: 2px solid var(--fill-color);\n",
              "    border-color: transparent;\n",
              "    border-bottom-color: var(--fill-color);\n",
              "    animation:\n",
              "      spin 1s steps(1) infinite;\n",
              "  }\n",
              "\n",
              "  @keyframes spin {\n",
              "    0% {\n",
              "      border-color: transparent;\n",
              "      border-bottom-color: var(--fill-color);\n",
              "      border-left-color: var(--fill-color);\n",
              "    }\n",
              "    20% {\n",
              "      border-color: transparent;\n",
              "      border-left-color: var(--fill-color);\n",
              "      border-top-color: var(--fill-color);\n",
              "    }\n",
              "    30% {\n",
              "      border-color: transparent;\n",
              "      border-left-color: var(--fill-color);\n",
              "      border-top-color: var(--fill-color);\n",
              "      border-right-color: var(--fill-color);\n",
              "    }\n",
              "    40% {\n",
              "      border-color: transparent;\n",
              "      border-right-color: var(--fill-color);\n",
              "      border-top-color: var(--fill-color);\n",
              "    }\n",
              "    60% {\n",
              "      border-color: transparent;\n",
              "      border-right-color: var(--fill-color);\n",
              "    }\n",
              "    80% {\n",
              "      border-color: transparent;\n",
              "      border-right-color: var(--fill-color);\n",
              "      border-bottom-color: var(--fill-color);\n",
              "    }\n",
              "    90% {\n",
              "      border-color: transparent;\n",
              "      border-bottom-color: var(--fill-color);\n",
              "    }\n",
              "  }\n",
              "</style>\n",
              "\n",
              "  <script>\n",
              "    async function quickchart(key) {\n",
              "      const quickchartButtonEl =\n",
              "        document.querySelector('#' + key + ' button');\n",
              "      quickchartButtonEl.disabled = true;  // To prevent multiple clicks.\n",
              "      quickchartButtonEl.classList.add('colab-df-spinner');\n",
              "      try {\n",
              "        const charts = await google.colab.kernel.invokeFunction(\n",
              "            'suggestCharts', [key], {});\n",
              "      } catch (error) {\n",
              "        console.error('Error during call to suggestCharts:', error);\n",
              "      }\n",
              "      quickchartButtonEl.classList.remove('colab-df-spinner');\n",
              "      quickchartButtonEl.classList.add('colab-df-quickchart-complete');\n",
              "    }\n",
              "    (() => {\n",
              "      let quickchartButtonEl =\n",
              "        document.querySelector('#df-53a90e89-d4d0-46c7-851c-c77c58c8cd4c button');\n",
              "      quickchartButtonEl.style.display =\n",
              "        google.colab.kernel.accessAllowed ? 'block' : 'none';\n",
              "    })();\n",
              "  </script>\n",
              "</div>\n",
              "    </div>\n",
              "  </div>\n"
            ]
          },
          "metadata": {},
          "execution_count": 6
        }
      ]
    },
    {
      "cell_type": "markdown",
      "source": [
        "Preprocessing and Cleaning the data"
      ],
      "metadata": {
        "id": "yyyXtA5hQLli"
      }
    },
    {
      "cell_type": "code",
      "source": [
        "CUSTOM_FILTERS = [lambda x: x.lower(), strip_tags, strip_punctuation, strip_multiple_whitespaces, strip_numeric, strip_non_alphanum,  lambda x: strip_short(x, minsize=4)]\n",
        "\n",
        "filtered_text = []\n",
        "for item in df['content'].astype(str):\n",
        "  filtered_text.append(preprocess_string(item, CUSTOM_FILTERS))\n"
      ],
      "metadata": {
        "id": "AGA9F3d5QJtX"
      },
      "execution_count": 7,
      "outputs": []
    },
    {
      "cell_type": "markdown",
      "source": [
        "Lemmatization"
      ],
      "metadata": {
        "id": "NjXSIZ-RQQbD"
      }
    },
    {
      "cell_type": "code",
      "source": [
        "import nltk\n",
        "\n",
        "nltk.download('wordnet')\n",
        "from nltk.stem import WordNetLemmatizer\n",
        "lemmatizer = WordNetLemmatizer()"
      ],
      "metadata": {
        "id": "dpWrs_B-QOZ6",
        "colab": {
          "base_uri": "https://localhost:8080/"
        },
        "outputId": "14882435-5cb0-4b3a-84e2-ce4abc9d1ba3"
      },
      "execution_count": 8,
      "outputs": [
        {
          "output_type": "stream",
          "name": "stderr",
          "text": [
            "[nltk_data] Downloading package wordnet to /root/nltk_data...\n"
          ]
        }
      ]
    },
    {
      "cell_type": "code",
      "source": [
        "lemmatized_words = [[lemmatizer.lemmatize(word) for word in sublst] for sublst in filtered_text]\n"
      ],
      "metadata": {
        "id": "miJeRypVQUJ_"
      },
      "execution_count": 9,
      "outputs": []
    },
    {
      "cell_type": "code",
      "source": [
        "print(\"One row of Lemmatized words\")\n",
        "print(lemmatized_words[0])"
      ],
      "metadata": {
        "id": "iyVYUoUiQU3G",
        "colab": {
          "base_uri": "https://localhost:8080/"
        },
        "outputId": "43af3860-5c1b-49bc-be5a-b4b4d8855b1d"
      },
      "execution_count": 10,
      "outputs": [
        {
          "output_type": "stream",
          "name": "stdout",
          "text": [
            "One row of Lemmatized words\n",
            "['artificial', 'immune', 'system', 'inspired', 'natural', 'immune', 'system', 'solving', 'computational', 'problem', 'immunological', 'principle', 'that', 'primarily', 'used', 'artificial', 'immune', 'system', 'clonal', 'selection', 'principle', 'immune', 'network', 'theory', 'negative', 'selection', 'mechanism', 'these', 'principle', 'have', 'been', 'applied', 'anomaly', 'detection', 'pattern', 'recognition', 'computer', 'network', 'security', 'dynamic', 'environment', 'learning', 'robotics', 'data', 'analysis', 'optimization', 'scheduling', 'timetabling', 'this', 'paper', 'describes', 'these', 'three', 'immunological', 'principle', 'were', 'adapted', 'previous', 'researcher', 'their', 'artificial', 'immune', 'system', 'model', 'algorithm', 'finally', 'application', 'various', 'artificial', 'immune', 'system', 'various', 'domain', 'summarized', 'time', 'line', 'immunology', 'artificial', 'immune', 'system']\n"
          ]
        }
      ]
    },
    {
      "cell_type": "markdown",
      "source": [
        "Removing stop words"
      ],
      "metadata": {
        "id": "Ocsd2AhrQfUv"
      }
    },
    {
      "cell_type": "code",
      "source": [
        "nltk.download('punkt')\n",
        "\n",
        "stop_words = STOPWORDS.union(set(['jats', 'ai', 'artificial', 'intelligence', 'research','technology','article',\n",
        "                                  'development', 'paper', 'application', 'method','deep','algorithm', 'problem', 'model', 'iso', 'function',\n",
        "                                  'noise', 'sample', 'layer', 'optimization', 'solution',\n",
        "                                  'optimal', 'parameter', 'predict', 'forecast', 'cluster', 'classifier', 'label', 'class',\n",
        "                                  'test', 'training', 'case', 'level', 'give', 'focus',\n",
        "                                  'real', 'however', 'review', 'need', 'various', 'many', 'solve', 'analyze', 'human',\n",
        "                                  'include', 'datasets','dataset','image', 'approach', 'accuracy', 'information',\n",
        "                                  'also', 'time', 'show',  'provide', 'task', 'make',\n",
        "                                  'performance', 'knowledge', 'user', 'feature', 'proposed','propose',\n",
        "                                  'process', 'system', 'well', 'study',\n",
        "                                  'different', 'high', 'improve', 'design', 'recognition',\n",
        "                                  'train', 'compare', 'field', 'apply', 'develop', 'based',\n",
        "                                  'technique', 'analysis', 'present', 'work',\n",
        "                                  'learn', 'machine', 'language', 'large',\n",
        "                                  'intelligent', 'base', 'neural', 'network', 'framework','learning',\n",
        "                                  'result', 'use', 'supervised', 'representation', 'domain', 'architecture',\n",
        "                                  'prediction', 'classification', 'natural', 'conference', 'data',\n",
        "                                  'conclusion', 'objective', 'abstract','background', 'author', 'disclosure', 'title', 'computer', 'agent',\n",
        "                                  'challenge','processing', 'future', 'recent', 'transfer', 'state', 'yang']))\n",
        "\n",
        "\n",
        "s = \"\"\n",
        "print(stop_words)\n",
        "cleaned_text_list = []\n",
        "for line in lemmatized_words:\n",
        "  s = \" \".join(line)\n",
        "  tokenized_text = word_tokenize(s)\n",
        "  cleaned_text = [word for word in tokenized_text if not word in stop_words]\n",
        "  cleaned_text_list.append(cleaned_text)"
      ],
      "metadata": {
        "id": "04_bwMMGQc0r",
        "colab": {
          "base_uri": "https://localhost:8080/"
        },
        "outputId": "28012654-e646-47ae-8149-c649a9e13980"
      },
      "execution_count": 11,
      "outputs": [
        {
          "output_type": "stream",
          "name": "stderr",
          "text": [
            "[nltk_data] Downloading package punkt to /root/nltk_data...\n",
            "[nltk_data]   Unzipping tokenizers/punkt.zip.\n"
          ]
        },
        {
          "output_type": "stream",
          "name": "stdout",
          "text": [
            "frozenset({'seem', 'whose', 'present', 'between', 'mill', 'whether', 'from', 'km', 'used', 'meanwhile', 'user', 'several', 'once', 'up', 'at', 'myself', 'why', 'somewhere', 'towards', 'call', 'show', 'because', 'ourselves', 'herself', 'wherein', 'eight', 'amoungst', 'whereafter', 'whereby', 'elsewhere', 'only', 'then', 'recognition', 'optimization', 'etc', 'prediction', 'not', 'hers', 'to', 'ltd', 'approach', 'which', 'one', 'human', 'whereas', 'however', 'thereby', 'feature', 'who', 'afterwards', 'system', 'others', 'abstract', 'off', 'seems', 'empty', 'include', 'cry', 'interest', 'paper', 'themselves', 'thereafter', 'are', 'hasnt', 'time', 'knowledge', 'deep', 'his', 'latterly', 'see', 'whereupon', 'within', 'framework', 'nine', 'technology', 'enough', 'regarding', 'work', 'unless', 'throughout', 'challenge', 'yourself', 'us', 'third', 'each', 'against', 'four', 'five', 'supervised', 'upon', 'i', 'quite', 'propose', 'every', 'improve', 'thin', 'solve', 'whenever', 'processing', 'own', 'noise', 'me', 'or', 'in', 'put', 'these', 'noone', 'you', 'first', 'hereby', 'everywhere', 'keep', 'apply', 'article', 'onto', 'since', 'compare', 'nor', 'another', 'either', 'ai', 'should', 'it', 'over', 'along', 'bottom', 'thru', 'representation', 'while', 'he', 'domain', 'nowhere', 'together', 'where', 'all', 'always', 'performance', 'training', 'function', 'moreover', 'thereupon', 'through', 'use', 'with', 'by', 'further', 'eleven', 'still', 'any', 'due', 'move', 'mine', 'iso', 'amount', 'sample', 'now', 'both', 'beside', 'just', 'twelve', 'three', 'real', 'everything', 'our', 'can', 'based', 'hundred', 'has', 'among', 'problem', 'un', 'de', 'neither', 'give', 'level', 'high', 'becoming', 'otherwise', 'everyone', 'this', 'other', 'agent', 'kg', 'application', 'fill', 'using', 'sincere', 'and', 'different', 'provide', 'next', 'beforehand', 'name', 'above', 'indeed', 'find', 'toward', 'there', 'does', 'disclosure', 'fifty', 'became', 'algorithm', 'sixty', 'via', 'for', 'well', 'after', 'didn', 'cant', 'therefore', 'ten', 'large', 'found', 'nothing', 'her', 'forecast', 'anywhere', 'con', 'under', 'side', 'bill', 'must', 'image', 'as', 'computer', 'fire', 'go', 'many', 'language', 'architecture', 'someone', 'into', 'here', 'transfer', 'doesn', 'their', 'none', 'rather', 'down', 'couldnt', 'model', 'else', 'do', 'please', 'seeming', 'therein', 'don', 'back', 'when', 'background', 'sometimes', 'forty', 'conclusion', 'she', 'describe', 'twenty', 'field', 'per', 'we', 'besides', 'am', 'get', 'least', 'analyze', 'process', 'namely', 'mostly', 'thence', 'nobody', 'same', 'again', 'except', 'case', 'around', 'during', 'top', 'wherever', 'technique', 'anyone', 'what', 'state', 'few', 'beyond', 'whoever', 'title', 'natural', 'hereupon', 'did', 'that', 'anything', 'thus', 'most', 'will', 'cluster', 'eg', 'being', 'datasets', 'part', 'them', 'before', 'information', 'anyway', 'result', 'have', 'even', 'classifier', 'itself', 'more', 'been', 'whole', 'until', 'author', 'develop', 'a', 'alone', 'class', 'ever', 'machine', 'out', 'front', 'task', 'perhaps', 'done', 'yang', 'make', 'seemed', 'various', 'too', 'something', 'learn', 'review', 'though', 'future', 'doing', 'network', 'no', 'base', 'was', 'method', 'two', 'those', 'serious', 'former', 'formerly', 'optimal', 'design', 'inc', 'of', 'some', 'ours', 'might', 'recent', 'already', 'co', 'had', 'focus', 'conference', 'on', 'research', 'nevertheless', 'so', 'himself', 'my', 'classification', 'label', 'about', 'less', 'hereafter', 'becomes', 'train', 'your', 'artificial', 'yourselves', 'solution', 'test', 'the', 'they', 'much', 'whatever', 'latter', 'cannot', 'is', 'development', 're', 'whence', 'predict', 'objective', 'almost', 'its', 'somehow', 'never', 'intelligent', 'would', 'layer', 'thick', 'neural', 'if', 'him', 'although', 'anyhow', 'may', 'without', 'study', 'across', 'also', 'jats', 'fifteen', 'often', 'but', 'parameter', 'intelligence', 'proposed', 'take', 'become', 'whom', 'amongst', 'such', 'than', 'data', 'last', 'were', 'behind', 'below', 'six', 'detail', 'accuracy', 'could', 'really', 'ie', 'made', 'sometime', 'hence', 'yours', 'whither', 'analysis', 'need', 'dataset', 'learning', 'yet', 'how', 'herein', 'very', 'full', 'an', 'be', 'say'})\n"
          ]
        }
      ]
    },
    {
      "cell_type": "markdown",
      "source": [
        "Creating vocabulary dictionary and document term matrix"
      ],
      "metadata": {
        "id": "kcHV1fy7QkYi"
      }
    },
    {
      "cell_type": "code",
      "source": [
        "dictionary = corpora.Dictionary(cleaned_text_list)\n",
        "doc_term_matrix = [dictionary.doc2bow(con) for con in cleaned_text_list]\n",
        "print(doc_term_matrix[0])"
      ],
      "metadata": {
        "id": "bd_K2tYCQiBp",
        "colab": {
          "base_uri": "https://localhost:8080/"
        },
        "outputId": "0f800578-4ffc-465b-9e65-a0b0a1aa8991"
      },
      "execution_count": 12,
      "outputs": [
        {
          "output_type": "stream",
          "name": "stdout",
          "text": [
            "[(0, 1), (1, 1), (2, 1), (3, 1), (4, 1), (5, 1), (6, 1), (7, 1), (8, 1), (9, 1), (10, 7), (11, 2), (12, 1), (13, 1), (14, 1), (15, 1), (16, 1), (17, 1), (18, 1), (19, 1), (20, 4), (21, 1), (22, 1), (23, 1), (24, 1), (25, 2), (26, 1), (27, 1), (28, 1), (29, 1)]\n"
          ]
        }
      ]
    },
    {
      "cell_type": "markdown",
      "source": [
        "Finding optimal number of topics using coherence score"
      ],
      "metadata": {
        "id": "jCLpjmBwQrRs"
      }
    },
    {
      "cell_type": "code",
      "source": [
        "def compute_coherence_values(dictionary, corpus, texts, limit, start=2, step=3):\n",
        "    \"\"\"\n",
        "    Compute c_v coherence for various number of topics\n",
        "\n",
        "    Parameters:\n",
        "    ----------\n",
        "    dictionary : Gensim dictionary\n",
        "    corpus : Gensim corpus\n",
        "    texts : List of input texts\n",
        "    limit : Max num of topics\n",
        "\n",
        "    Returns:\n",
        "    -------\n",
        "    model_list : List of LDA topic models\n",
        "    coherence_values : Coherence values corresponding to the LDA model with respective number of topics\n",
        "    \"\"\"\n",
        "    coherence_values = []\n",
        "    model_list = []\n",
        "    for num_topics in range(start, limit, step):\n",
        "        model = gensim.models.ldamodel.LdaModel(corpus=corpus, num_topics=num_topics, id2word=dictionary)\n",
        "        model_list.append(model)\n",
        "        coherencemodel = CoherenceModel(model=model, texts=texts, dictionary=dictionary, coherence='c_v')\n",
        "        coherence_values.append(coherencemodel.get_coherence())\n",
        "\n",
        "    return model_list, coherence_values"
      ],
      "metadata": {
        "id": "kZ4QI6cjQn8K"
      },
      "execution_count": null,
      "outputs": []
    },
    {
      "cell_type": "code",
      "source": [
        "model_list, coherence_values = compute_coherence_values(dictionary=dictionary, corpus=doc_term_matrix, texts=cleaned_text_list, start=2, limit=20, step=1)\n"
      ],
      "metadata": {
        "id": "3vBX-9o_QvuW"
      },
      "execution_count": null,
      "outputs": []
    },
    {
      "cell_type": "code",
      "source": [
        "# Show graph\n",
        "limit=20; start=2; step=1;\n",
        "x = range(start, limit, step)\n",
        "plt.plot(x, coherence_values)\n",
        "plt.xlabel(\"Num Topics\")\n",
        "plt.ylabel(\"Coherence score\")\n",
        "plt.legend((\"coherence_values\"), loc='best')\n",
        "plt.show()"
      ],
      "metadata": {
        "id": "_Ym4Y4K2QyFS"
      },
      "execution_count": null,
      "outputs": []
    },
    {
      "cell_type": "code",
      "source": [
        "max_cv = max(coherence_values)\n",
        "m_with_max_cv = None\n",
        "\n",
        "\n",
        "# Print the coherence scores and m with max cv in the range 7 to 19\n",
        "for m, cv in zip(x, coherence_values):\n",
        "    print(\"Num Topics =\", m, \" has Coherence Value of\", round(cv, 4))\n",
        "    if 7 <= m <= 19:\n",
        "        if max_cv is None or cv >= max_cv:\n",
        "            max_cv = cv\n",
        "            m_with_max_cv = m\n",
        "\n",
        "print(\"Optimum number of topics: m with max cv:\", m_with_max_cv)"
      ],
      "metadata": {
        "id": "SyNfGrkIQ0NW"
      },
      "execution_count": null,
      "outputs": []
    },
    {
      "cell_type": "code",
      "source": [
        "# Optimum number of topics is m_with_max_cv\n",
        "num_topics = m_with_max_cv\n",
        "# Creating the object for LDA model using gensim library\n",
        "LDA = gensim.models.ldamodel.LdaModel\n",
        "\n",
        "# Build LDA model\n",
        "lda_model = LDA(corpus=doc_term_matrix, id2word=dictionary, num_topics=num_topics, random_state=100,\n",
        "                chunksize=1000, passes=50,iterations=100)\n"
      ],
      "metadata": {
        "id": "1dI7tUYoQ2l_"
      },
      "execution_count": null,
      "outputs": []
    },
    {
      "cell_type": "code",
      "source": [
        "for i,topic in lda_model.show_topics(formatted=True, num_topics=num_topics, num_words=10):\n",
        "    print(str(i)+\": \"+ topic)\n",
        "    print()\n"
      ],
      "metadata": {
        "id": "PY_x8chzR1Gd"
      },
      "execution_count": null,
      "outputs": []
    },
    {
      "cell_type": "markdown",
      "source": [
        "Perplexity and Coherence score of the model"
      ],
      "metadata": {
        "id": "ihY7JoXCR2Dl"
      }
    },
    {
      "cell_type": "code",
      "source": [
        "print('\\nPerplexity: ', lda_model.log_perplexity(doc_term_matrix,total_docs=10000))  # a measure of how good the model is. lower the better.\n",
        "\n",
        "# Compute Coherence Score\n",
        "coherence_model_lda = CoherenceModel(model=lda_model, texts=lemmatized_words, dictionary=dictionary , coherence='c_v')\n",
        "coherence_lda = coherence_model_lda.get_coherence()\n",
        "print('\\nCoherence Score: ', coherence_lda)"
      ],
      "metadata": {
        "id": "VG-7tH1XR4Mg"
      },
      "execution_count": null,
      "outputs": []
    },
    {
      "cell_type": "markdown",
      "source": [
        "Visualization"
      ],
      "metadata": {
        "id": "Q4L-tjrRR9Gz"
      }
    },
    {
      "cell_type": "code",
      "source": [
        "# Get the dominant topic and its associated cluster for each document\n",
        "cluster_labels = []\n",
        "for doc in doc_term_matrix:\n",
        "    doc_topics = lda_model.get_document_topics(doc)\n",
        "    dominant_topic = max(doc_topics, key=lambda x: x[1])[0]\n",
        "    cluster_labels.append(dominant_topic)\n",
        "\n",
        "\n",
        "# Count the number of documents in each cluster and display\n",
        "cluster_counts = Counter(cluster_labels)\n",
        "for key, value in cluster_counts.items():\n",
        "    print(key, \":\", value)\n"
      ],
      "metadata": {
        "id": "OWNtXSyIR6vb"
      },
      "execution_count": null,
      "outputs": []
    },
    {
      "cell_type": "code",
      "source": [
        "# Get the cluster labels and counts.\n",
        "cluster_labels, cluster_counts = list(cluster_counts.keys()), list(cluster_counts.values())\n",
        "\n",
        "# Create a bubble chart of the cluster counts, with the size of the bubbles proportional to the number of documents in each cluster.\n",
        "plt.figure(figsize=(15, 15))\n",
        "plt.scatter(cluster_labels, cluster_counts, s=cluster_counts, c='orange', alpha=0.75)\n",
        "\n",
        "# Add a title and labels to the plot.\n",
        "plt.title('Bubble Chart of Cluster Counts')\n",
        "plt.xlabel('Cluster Label')\n",
        "plt.ylabel('Number of Documents')\n",
        "\n",
        "# Show the plot.\n",
        "plt.show()"
      ],
      "metadata": {
        "id": "TNsr7opcSAOe"
      },
      "execution_count": null,
      "outputs": []
    },
    {
      "cell_type": "code",
      "source": [
        "# LDA does soft clustering. This shows all the topics each article is assigned to\n",
        "topic_assignments = []\n",
        "for doc in doc_term_matrix:\n",
        "    topic_dist = lda_model.get_document_topics(doc)\n",
        "    topic_assignments.append([t[0] for t in topic_dist])"
      ],
      "metadata": {
        "id": "hd7GBG0XSCip"
      },
      "execution_count": null,
      "outputs": []
    },
    {
      "cell_type": "code",
      "source": [
        "# To get the topic that an article has maximum probability of being assigned to\n",
        "dominant_assignments = []\n",
        "\n",
        "for doc in doc_term_matrix:\n",
        "      topic_distribution = lda_model.get_document_topics(doc)\n",
        "      topic_distribution.sort(key=lambda x: x[1], reverse=True)\n",
        "      dominant_topic = max(topic_distribution, key=lambda item: item[1])[0]\n",
        "      dominant_assignments.append(dominant_topic)"
      ],
      "metadata": {
        "id": "p9Q1B32BSEkH"
      },
      "execution_count": null,
      "outputs": []
    },
    {
      "cell_type": "code",
      "source": [
        "article_topic_map = {}\n",
        "for i, article in enumerate(df['title']):\n",
        "    dominant_topic = dominant_assignments[i]\n",
        "    if article_topic_map.get(dominant_topic) is None:\n",
        "        article_topic_map[dominant_topic] = []\n",
        "    article_topic_map[dominant_topic].append(article)"
      ],
      "metadata": {
        "id": "wRzITDXaSGyc"
      },
      "execution_count": null,
      "outputs": []
    },
    {
      "cell_type": "code",
      "source": [
        "# Specify the output CSV file path\n",
        "output_file = '/content/gdrive/MyDrive/Colab Notebooks/Topic_Article_Map.csv'\n",
        "\n",
        "# Open the file in 'w' mode, create a CSV writer object\n",
        "with open(output_file, 'w', newline='') as csvfile:\n",
        "    writer = csv.writer(csvfile)\n",
        "\n",
        "    # Write the header\n",
        "    writer.writerow(['Topic', 'Title'])\n",
        "\n",
        "    # Write the contents of the dictionary\n",
        "    for key, value in article_topic_map.items():\n",
        "        writer.writerow([key, value])\n",
        "\n",
        "print(f\"Data written to '{output_file}' successfully.\")"
      ],
      "metadata": {
        "id": "XQEAIE7hSIo0"
      },
      "execution_count": null,
      "outputs": []
    },
    {
      "cell_type": "markdown",
      "source": [
        "Word Cloud"
      ],
      "metadata": {
        "id": "yS3qe-mySjID"
      }
    },
    {
      "cell_type": "code",
      "source": [
        "for t in range(lda_model.num_topics):\n",
        "    topic_words = lda_model.show_topic(t, 200)\n",
        "    wordcloud_data = {word: prob for word, prob in topic_words}\n",
        "\n",
        "    plt.figure()\n",
        "    plt.imshow(WordCloud().fit_words(wordcloud_data))\n",
        "    plt.axis(\"off\")\n",
        "    plt.title(\"Topic #\" + str(t))\n",
        "    plt.show()\n"
      ],
      "metadata": {
        "id": "EjL8kQ4_SK8a"
      },
      "execution_count": null,
      "outputs": []
    }
  ]
}